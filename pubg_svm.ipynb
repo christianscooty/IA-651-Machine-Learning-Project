{
 "cells": [
  {
   "cell_type": "code",
   "execution_count": 51,
   "id": "4c6f6695",
   "metadata": {},
   "outputs": [],
   "source": [
    "import warnings\n",
    "warnings.filterwarnings(\"ignore\")\n",
    "#Import scikit-learn dataset library\n",
    "from sklearn import datasets\n",
    "import pandas as pd\n",
    "import numpy as np\n",
    "import matplotlib.pyplot as plt\n",
    "from sklearn import preprocessing\n",
    "from sklearn.metrics import mean_squared_error\n",
    "from sklearn.model_selection import train_test_split\n",
    "from sklearn import metrics, svm\n",
    "from sklearn.linear_model import LogisticRegression\n",
    "from sklearn import utils"
   ]
  },
  {
   "cell_type": "code",
   "execution_count": 52,
   "id": "abb61bac",
   "metadata": {},
   "outputs": [],
   "source": [
    "#Reading CSV File\n",
    "csvFile = pd.read_csv(\"pubg_data.csv\")"
   ]
  },
  {
   "cell_type": "code",
   "execution_count": 53,
   "id": "dc09c24a",
   "metadata": {},
   "outputs": [
    {
     "name": "stdout",
     "output_type": "stream",
     "text": [
      "Index(['Unnamed: 0', 'Id', 'groupId', 'matchId', 'assists', 'boosts',\n",
      "       'damageDealt', 'DBNOs', 'headshotKills', 'heals', 'killPlace',\n",
      "       'killPoints', 'kills', 'killStreaks', 'longestKill', 'matchDuration',\n",
      "       'matchType', 'maxPlace', 'numGroups', 'rankPoints', 'revives',\n",
      "       'rideDistance', 'roadKills', 'swimDistance', 'teamKills',\n",
      "       'vehicleDestroys', 'walkDistance', 'weaponsAcquired', 'winPoints',\n",
      "       'winPlacePerc'],\n",
      "      dtype='object')\n"
     ]
    }
   ],
   "source": [
    "#To Print Column Names\n",
    "print(csvFile.keys())"
   ]
  },
  {
   "cell_type": "code",
   "execution_count": 54,
   "id": "2a858c91",
   "metadata": {},
   "outputs": [],
   "source": [
    "#Dropping Unncessary Columns\n",
    "csvFile.drop(['Unnamed: 0','Id','groupId', 'matchId','matchType'],axis = 1, inplace = True)"
   ]
  },
  {
   "cell_type": "code",
   "execution_count": 55,
   "id": "0cef3040",
   "metadata": {},
   "outputs": [
    {
     "name": "stdout",
     "output_type": "stream",
     "text": [
      "(1112, 25)\n"
     ]
    }
   ],
   "source": [
    "#Creating subset of data\n",
    "subsetData = csvFile[::1000]\n",
    "# Summarizing shape\n",
    "print(subsetData.shape)"
   ]
  },
  {
   "cell_type": "code",
   "execution_count": 56,
   "id": "fec053f6",
   "metadata": {},
   "outputs": [
    {
     "data": {
      "text/html": [
       "<div>\n",
       "<style scoped>\n",
       "    .dataframe tbody tr th:only-of-type {\n",
       "        vertical-align: middle;\n",
       "    }\n",
       "\n",
       "    .dataframe tbody tr th {\n",
       "        vertical-align: top;\n",
       "    }\n",
       "\n",
       "    .dataframe thead th {\n",
       "        text-align: right;\n",
       "    }\n",
       "</style>\n",
       "<table border=\"1\" class=\"dataframe\">\n",
       "  <thead>\n",
       "    <tr style=\"text-align: right;\">\n",
       "      <th></th>\n",
       "      <th>assists</th>\n",
       "      <th>boosts</th>\n",
       "      <th>damageDealt</th>\n",
       "      <th>DBNOs</th>\n",
       "      <th>headshotKills</th>\n",
       "      <th>heals</th>\n",
       "      <th>killPlace</th>\n",
       "      <th>killPoints</th>\n",
       "      <th>kills</th>\n",
       "      <th>killStreaks</th>\n",
       "      <th>...</th>\n",
       "      <th>revives</th>\n",
       "      <th>rideDistance</th>\n",
       "      <th>roadKills</th>\n",
       "      <th>swimDistance</th>\n",
       "      <th>teamKills</th>\n",
       "      <th>vehicleDestroys</th>\n",
       "      <th>walkDistance</th>\n",
       "      <th>weaponsAcquired</th>\n",
       "      <th>winPoints</th>\n",
       "      <th>winPlacePerc</th>\n",
       "    </tr>\n",
       "  </thead>\n",
       "  <tbody>\n",
       "    <tr>\n",
       "      <th>0</th>\n",
       "      <td>0</td>\n",
       "      <td>0</td>\n",
       "      <td>25.93</td>\n",
       "      <td>0</td>\n",
       "      <td>0</td>\n",
       "      <td>0</td>\n",
       "      <td>84</td>\n",
       "      <td>1437</td>\n",
       "      <td>0</td>\n",
       "      <td>0</td>\n",
       "      <td>...</td>\n",
       "      <td>0</td>\n",
       "      <td>0.0</td>\n",
       "      <td>0</td>\n",
       "      <td>0.00</td>\n",
       "      <td>0</td>\n",
       "      <td>0</td>\n",
       "      <td>151.3</td>\n",
       "      <td>1</td>\n",
       "      <td>1525</td>\n",
       "      <td>0.0667</td>\n",
       "    </tr>\n",
       "    <tr>\n",
       "      <th>1000</th>\n",
       "      <td>0</td>\n",
       "      <td>2</td>\n",
       "      <td>400.00</td>\n",
       "      <td>0</td>\n",
       "      <td>3</td>\n",
       "      <td>2</td>\n",
       "      <td>5</td>\n",
       "      <td>0</td>\n",
       "      <td>4</td>\n",
       "      <td>1</td>\n",
       "      <td>...</td>\n",
       "      <td>0</td>\n",
       "      <td>2468.0</td>\n",
       "      <td>0</td>\n",
       "      <td>29.92</td>\n",
       "      <td>0</td>\n",
       "      <td>0</td>\n",
       "      <td>3268.0</td>\n",
       "      <td>6</td>\n",
       "      <td>0</td>\n",
       "      <td>0.8617</td>\n",
       "    </tr>\n",
       "    <tr>\n",
       "      <th>2000</th>\n",
       "      <td>0</td>\n",
       "      <td>1</td>\n",
       "      <td>42.57</td>\n",
       "      <td>0</td>\n",
       "      <td>0</td>\n",
       "      <td>4</td>\n",
       "      <td>58</td>\n",
       "      <td>0</td>\n",
       "      <td>0</td>\n",
       "      <td>0</td>\n",
       "      <td>...</td>\n",
       "      <td>0</td>\n",
       "      <td>579.7</td>\n",
       "      <td>0</td>\n",
       "      <td>0.00</td>\n",
       "      <td>0</td>\n",
       "      <td>0</td>\n",
       "      <td>1121.0</td>\n",
       "      <td>7</td>\n",
       "      <td>0</td>\n",
       "      <td>0.4074</td>\n",
       "    </tr>\n",
       "    <tr>\n",
       "      <th>3000</th>\n",
       "      <td>0</td>\n",
       "      <td>4</td>\n",
       "      <td>25.80</td>\n",
       "      <td>0</td>\n",
       "      <td>0</td>\n",
       "      <td>9</td>\n",
       "      <td>36</td>\n",
       "      <td>0</td>\n",
       "      <td>0</td>\n",
       "      <td>0</td>\n",
       "      <td>...</td>\n",
       "      <td>0</td>\n",
       "      <td>854.7</td>\n",
       "      <td>0</td>\n",
       "      <td>57.71</td>\n",
       "      <td>0</td>\n",
       "      <td>0</td>\n",
       "      <td>2568.0</td>\n",
       "      <td>8</td>\n",
       "      <td>0</td>\n",
       "      <td>0.8846</td>\n",
       "    </tr>\n",
       "    <tr>\n",
       "      <th>4000</th>\n",
       "      <td>0</td>\n",
       "      <td>0</td>\n",
       "      <td>19.69</td>\n",
       "      <td>0</td>\n",
       "      <td>0</td>\n",
       "      <td>0</td>\n",
       "      <td>47</td>\n",
       "      <td>993</td>\n",
       "      <td>0</td>\n",
       "      <td>0</td>\n",
       "      <td>...</td>\n",
       "      <td>0</td>\n",
       "      <td>2811.0</td>\n",
       "      <td>0</td>\n",
       "      <td>0.00</td>\n",
       "      <td>1</td>\n",
       "      <td>0</td>\n",
       "      <td>1239.0</td>\n",
       "      <td>5</td>\n",
       "      <td>1437</td>\n",
       "      <td>0.7407</td>\n",
       "    </tr>\n",
       "  </tbody>\n",
       "</table>\n",
       "<p>5 rows × 25 columns</p>\n",
       "</div>"
      ],
      "text/plain": [
       "      assists  boosts  damageDealt  DBNOs  headshotKills  heals  killPlace  \\\n",
       "0           0       0        25.93      0              0      0         84   \n",
       "1000        0       2       400.00      0              3      2          5   \n",
       "2000        0       1        42.57      0              0      4         58   \n",
       "3000        0       4        25.80      0              0      9         36   \n",
       "4000        0       0        19.69      0              0      0         47   \n",
       "\n",
       "      killPoints  kills  killStreaks  ...  revives  rideDistance  roadKills  \\\n",
       "0           1437      0            0  ...        0           0.0          0   \n",
       "1000           0      4            1  ...        0        2468.0          0   \n",
       "2000           0      0            0  ...        0         579.7          0   \n",
       "3000           0      0            0  ...        0         854.7          0   \n",
       "4000         993      0            0  ...        0        2811.0          0   \n",
       "\n",
       "      swimDistance  teamKills  vehicleDestroys  walkDistance  weaponsAcquired  \\\n",
       "0             0.00          0                0         151.3                1   \n",
       "1000         29.92          0                0        3268.0                6   \n",
       "2000          0.00          0                0        1121.0                7   \n",
       "3000         57.71          0                0        2568.0                8   \n",
       "4000          0.00          1                0        1239.0                5   \n",
       "\n",
       "      winPoints  winPlacePerc  \n",
       "0          1525        0.0667  \n",
       "1000          0        0.8617  \n",
       "2000          0        0.4074  \n",
       "3000          0        0.8846  \n",
       "4000       1437        0.7407  \n",
       "\n",
       "[5 rows x 25 columns]"
      ]
     },
     "execution_count": 56,
     "metadata": {},
     "output_type": "execute_result"
    }
   ],
   "source": [
    "# Summarizing First 5 Lines of Data\n",
    "subsetData.head()"
   ]
  },
  {
   "cell_type": "code",
   "execution_count": 57,
   "id": "48f18382",
   "metadata": {},
   "outputs": [
    {
     "name": "stdout",
     "output_type": "stream",
     "text": [
      "         assists    boosts  damageDealt     DBNOs  headshotKills     heals  \\\n",
      "0           0.00  0.000000     0.016729  0.000000            0.0  0.000000   \n",
      "1000        0.00  0.181818     0.258065  0.000000            0.6  0.095238   \n",
      "2000        0.00  0.090909     0.027465  0.000000            0.0  0.190476   \n",
      "3000        0.00  0.363636     0.016645  0.000000            0.0  0.428571   \n",
      "4000        0.00  0.000000     0.012703  0.000000            0.0  0.000000   \n",
      "...          ...       ...          ...       ...            ...       ...   \n",
      "1107000     0.00  0.000000     0.063065  0.000000            0.0  0.000000   \n",
      "1108000     0.00  0.000000     0.179935  0.181818            0.0  0.000000   \n",
      "1109000     0.25  0.181818     0.217032  0.272727            0.0  0.047619   \n",
      "1110000     0.00  0.000000     0.000000  0.000000            0.0  0.047619   \n",
      "1111000     0.00  0.272727     0.064516  0.000000            0.0  0.333333   \n",
      "\n",
      "         killPlace  killPoints     kills  killStreaks  ...   revives  \\\n",
      "0         0.857143    0.775918  0.000000         0.00  ...  0.000000   \n",
      "1000      0.051020    0.000000  0.307692         0.25  ...  0.000000   \n",
      "2000      0.591837    0.000000  0.000000         0.00  ...  0.000000   \n",
      "3000      0.367347    0.000000  0.000000         0.00  ...  0.000000   \n",
      "4000      0.479592    0.536177  0.000000         0.00  ...  0.000000   \n",
      "...            ...         ...       ...          ...  ...       ...   \n",
      "1107000   0.602041    0.000000  0.000000         0.00  ...  0.000000   \n",
      "1108000   0.683673    0.000000  0.000000         0.00  ...  0.000000   \n",
      "1109000   0.081633    0.000000  0.230769         0.25  ...  0.000000   \n",
      "1110000   0.826531    0.658747  0.000000         0.00  ...  0.666667   \n",
      "1111000   0.295918    0.707343  0.076923         0.25  ...  0.333333   \n",
      "\n",
      "         rideDistance  roadKills  swimDistance  teamKills  vehicleDestroys  \\\n",
      "0            0.000000        0.0      0.000000        0.0              0.0   \n",
      "1000         0.210221        0.0      0.116420        0.0              0.0   \n",
      "2000         0.049378        0.0      0.000000        0.0              0.0   \n",
      "3000         0.072802        0.0      0.224553        0.0              0.0   \n",
      "4000         0.239438        0.0      0.000000        0.5              0.0   \n",
      "...               ...        ...           ...        ...              ...   \n",
      "1107000      0.000000        0.0      0.000000        0.0              0.0   \n",
      "1108000      0.000000        0.0      0.000000        0.0              0.0   \n",
      "1109000      0.000000        0.0      0.052529        0.0              0.0   \n",
      "1110000      0.000000        0.0      0.000000        0.0              0.0   \n",
      "1111000      0.092930        0.0      0.000000        0.0              0.0   \n",
      "\n",
      "         walkDistance  weaponsAcquired  winPoints  winPlacePerc  \n",
      "0            0.019437         0.066667   0.814637        0.0667  \n",
      "1000         0.419836         0.400000   0.000000        0.8617  \n",
      "2000         0.144013         0.466667   0.000000        0.4074  \n",
      "3000         0.329908         0.533333   0.000000        0.8846  \n",
      "4000         0.159173         0.333333   0.767628        0.7407  \n",
      "...               ...              ...        ...           ...  \n",
      "1107000      0.035316         0.133333   0.000000        0.5417  \n",
      "1108000      0.347893         0.200000   0.000000        0.2667  \n",
      "1109000      0.406732         0.400000   0.000000        1.0000  \n",
      "1110000      0.036267         0.133333   0.776175        0.2143  \n",
      "1111000      0.146968         0.400000   0.833868        0.6923  \n",
      "\n",
      "[1112 rows x 25 columns]\n"
     ]
    }
   ],
   "source": [
    "#Defining Target\n",
    "target_column = ['winPlacePerc']\n",
    "#Setting Predictors\n",
    "predictors = list(set(list(subsetData.columns))-set(target_column))\n",
    "subsetData[predictors] = subsetData[predictors]/subsetData[predictors].max()\n",
    "subsetData.describe()\n",
    "print(subsetData)"
   ]
  },
  {
   "cell_type": "code",
   "execution_count": 58,
   "id": "7b7be3fa",
   "metadata": {},
   "outputs": [],
   "source": [
    "#Defining X and y Values\n",
    "X = subsetData[predictors].values\n",
    "y = subsetData[target_column].values"
   ]
  },
  {
   "cell_type": "code",
   "execution_count": 59,
   "id": "f04d9d85",
   "metadata": {},
   "outputs": [],
   "source": [
    "#Splitting the Dataset into Train and Test\n",
    "X_train, X_test, y_train, y_test = train_test_split(X, y, test_size=0.3, random_state=109)"
   ]
  },
  {
   "cell_type": "code",
   "execution_count": 60,
   "id": "8de4a25c",
   "metadata": {},
   "outputs": [],
   "source": [
    "#Standardizing the Data\n",
    "\n",
    "from sklearn.preprocessing import StandardScaler\n",
    "sc = StandardScaler()\n",
    "X_train = sc.fit_transform(X_train)\n",
    "X_test = sc.transform(X_test)"
   ]
  },
  {
   "cell_type": "code",
   "execution_count": 62,
   "id": "fa7c7ca6",
   "metadata": {},
   "outputs": [
    {
     "data": {
      "text/plain": [
       "SVC(random_state=0)"
      ]
     },
     "execution_count": 62,
     "metadata": {},
     "output_type": "execute_result"
    }
   ],
   "source": [
    "#Fitting SVM to Training Set\n",
    "\n",
    "from sklearn.svm import SVC\n",
    "classifier = SVC(kernel = 'rbf', random_state = 0)\n",
    "classifier.fit(X_train, y_train.astype(\"int\"))"
   ]
  },
  {
   "cell_type": "code",
   "execution_count": 63,
   "id": "30c79357",
   "metadata": {},
   "outputs": [
    {
     "data": {
      "text/plain": [
       "(778, 24)"
      ]
     },
     "execution_count": 63,
     "metadata": {},
     "output_type": "execute_result"
    }
   ],
   "source": [
    "X_train.shape"
   ]
  },
  {
   "cell_type": "code",
   "execution_count": 64,
   "id": "d72d3024",
   "metadata": {},
   "outputs": [],
   "source": [
    "#Predicting the Test Set Results\n",
    "\n",
    "y_pred = classifier.predict(X_test)"
   ]
  },
  {
   "cell_type": "code",
   "execution_count": 69,
   "id": "39c8f2e4",
   "metadata": {},
   "outputs": [
    {
     "name": "stdout",
     "output_type": "stream",
     "text": [
      "[[326   0]\n",
      " [  8   0]]\n"
     ]
    },
    {
     "data": {
      "text/plain": [
       "0.9760479041916168"
      ]
     },
     "execution_count": 69,
     "metadata": {},
     "output_type": "execute_result"
    }
   ],
   "source": [
    "#Creating COnfusion Matrix\n",
    "\n",
    "from sklearn.metrics import confusion_matrix, accuracy_score, classification_report\n",
    "y_test = y_test.astype(\"int64\")\n",
    "cm = confusion_matrix(y_test, y_pred)\n",
    "print(cm)\n",
    "accuracy_score(y_test,y_pred)"
   ]
  },
  {
   "cell_type": "code",
   "execution_count": 70,
   "id": "6a369f84",
   "metadata": {},
   "outputs": [
    {
     "name": "stdout",
     "output_type": "stream",
     "text": [
      "              precision    recall  f1-score   support\n",
      "\n",
      "           0       0.98      1.00      0.99       326\n",
      "           1       0.00      0.00      0.00         8\n",
      "\n",
      "    accuracy                           0.98       334\n",
      "   macro avg       0.49      0.50      0.49       334\n",
      "weighted avg       0.95      0.98      0.96       334\n",
      "\n"
     ]
    }
   ],
   "source": [
    "cr = classification_report(y_test,y_pred)\n",
    "print(cr) "
   ]
  },
  {
   "cell_type": "code",
   "execution_count": null,
   "id": "8c190581",
   "metadata": {},
   "outputs": [],
   "source": []
  }
 ],
 "metadata": {
  "kernelspec": {
   "display_name": "Python 3",
   "language": "python",
   "name": "python3"
  },
  "language_info": {
   "codemirror_mode": {
    "name": "ipython",
    "version": 3
   },
   "file_extension": ".py",
   "mimetype": "text/x-python",
   "name": "python",
   "nbconvert_exporter": "python",
   "pygments_lexer": "ipython3",
   "version": "3.9.0"
  }
 },
 "nbformat": 4,
 "nbformat_minor": 5
}
