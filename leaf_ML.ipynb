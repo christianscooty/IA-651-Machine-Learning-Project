{
 "cells": [
  {
   "cell_type": "code",
   "execution_count": 129,
   "id": "7d963908-455b-46d9-8315-c4854f0dce6c",
   "metadata": {},
   "outputs": [],
   "source": [
    "import tensorflow as tf\n",
    "from tensorflow import keras\n",
    "from keras.preprocessing import image_dataset_from_directory\n",
    "from tensorflow.keras import backend as K\n",
    "from tensorflow.keras.datasets import cifar10\n",
    "from tensorflow.keras.models import Sequential\n",
    "from tensorflow.keras.layers import Dense, Conv2D, MaxPooling2D, Dropout, Flatten\n",
    "# one-hot encoding\n",
    "from tensorflow.keras.preprocessing.image import ImageDataGenerator\n",
    "from tensorflow.keras import layers\n",
    "import pathlib\n",
    "import PIL\n",
    "import numpy as np\n",
    "import matplotlib.pyplot as plt \n"
   ]
  },
  {
   "cell_type": "code",
   "execution_count": 105,
   "id": "945c3d24-efd6-49fb-b354-f8e36429e224",
   "metadata": {},
   "outputs": [],
   "source": [
    "leaf_folder = 'leaf_test/'"
   ]
  },
  {
   "cell_type": "code",
   "execution_count": 106,
   "id": "73f036c2-f4ce-47ba-9597-522f0ccc50f3",
   "metadata": {},
   "outputs": [],
   "source": [
    "import os \n",
    "classes = []\n",
    "for i in os.listdir(leaf_folder):\n",
    "    classes.append(i)"
   ]
  },
  {
   "cell_type": "code",
   "execution_count": 107,
   "id": "23955ec9-31e6-41fe-863d-f379476d0b63",
   "metadata": {},
   "outputs": [
    {
     "name": "stdout",
     "output_type": "stream",
     "text": [
      "['Acer_Campestre', 'Alnus_Sieboldiana', 'Cotinus_Coggygria', 'Eucalyptus_Glaucescens', 'Ginkgo_Biloba', 'Liriodendron_Tulipifera', 'Prunus_X_Shmittii', 'Quercus_Phellos', 'Quercus_x_Hispanica', 'Zelkova_Serrata']\n"
     ]
    }
   ],
   "source": [
    "print(classes)"
   ]
  },
  {
   "cell_type": "code",
   "execution_count": 108,
   "id": "a2ff1990-62f4-4efa-8849-f7e35ec94319",
   "metadata": {},
   "outputs": [],
   "source": [
    "leaf_folder_path = pathlib.Path(leaf_folder)\n",
    "images = list(leaf_folder_path.glob('*/*'))\n",
    "len(images)\n",
    "image_size = (550,475)"
   ]
  },
  {
   "cell_type": "code",
   "execution_count": 109,
   "id": "1d7851e9-d96e-4762-896f-0bcb197c55cf",
   "metadata": {},
   "outputs": [
    {
     "name": "stdout",
     "output_type": "stream",
     "text": [
      "Found 160 files belonging to 10 classes.\n",
      "Using 128 files for training.\n"
     ]
    }
   ],
   "source": [
    "train_ds = image_dataset_from_directory(\n",
    "    leaf_folder_path,\n",
    "    validation_split=0.2,\n",
    "    batch_size = 10,\n",
    "    subset = 'training', \n",
    "    label_mode = 'categorical',\n",
    "    image_size=image_size,\n",
    "    class_names =classes,\n",
    "    seed = 12\n",
    ")"
   ]
  },
  {
   "cell_type": "code",
   "execution_count": 110,
   "id": "c6701f60-51d3-45e4-80a7-00c937e01437",
   "metadata": {},
   "outputs": [
    {
     "name": "stdout",
     "output_type": "stream",
     "text": [
      "<class 'tensorflow.python.framework.ops.EagerTensor'>\n"
     ]
    },
    {
     "data": {
      "text/plain": [
       "TensorShape([10, 550, 475, 3])"
      ]
     },
     "execution_count": 110,
     "metadata": {},
     "output_type": "execute_result"
    }
   ],
   "source": [
    "for images,labels in train_ds.take(1):\n",
    "    first_set=images\n",
    "    print(type(images))\n",
    "first_set.shape"
   ]
  },
  {
   "cell_type": "code",
   "execution_count": 111,
   "id": "feab2b8c-ac6f-4c17-838a-b49681953dca",
   "metadata": {},
   "outputs": [
    {
     "name": "stdout",
     "output_type": "stream",
     "text": [
      "Found 160 files belonging to 10 classes.\n",
      "Using 32 files for validation.\n"
     ]
    }
   ],
   "source": [
    "val_ds = image_dataset_from_directory(\n",
    "    leaf_folder_path,\n",
    "    validation_split=0.2,\n",
    "    subset=\"validation\",\n",
    "    label_mode = 'categorical',\n",
    "    image_size=image_size,\n",
    "    batch_size=10,\n",
    "    class_names=classes,\n",
    "    seed = 12\n",
    ")"
   ]
  },
  {
   "cell_type": "code",
   "execution_count": 96,
   "id": "9dddfb75-7395-4a22-96f9-91fc8a707888",
   "metadata": {},
   "outputs": [],
   "source": [
    "# this works well so far\n",
    "data_augmentation=Sequential([\n",
    "    layers.experimental.preprocessing.RandomFlip('horizontal',input_shape=(550,475,3)),\n",
    "    layers.experimental.preprocessing.RandomFlip('vertical',input_shape=(550,475,3)), \n",
    "    layers.experimental.preprocessing.RandomRotation(0.4)\n",
    "])"
   ]
  },
  {
   "cell_type": "code",
   "execution_count": 124,
   "id": "5df7d17b-03be-4a97-9f49-1d93c1f37fe0",
   "metadata": {},
   "outputs": [],
   "source": [
    "model=Sequential([\n",
    "                         data_augmentation,\n",
    "                         layers.Conv2D(filters=16,kernel_size=(3,3),padding='same',activation='relu'),\n",
    "                         layers.MaxPool2D(pool_size=(2,2)),\n",
    "                         layers.Dropout(0.25),\n",
    "                         layers.Conv2D(filters=32,kernel_size=(3,3),activation='relu'),\n",
    "                         layers.MaxPool2D(pool_size=(2,2)),\n",
    "                         layers.Dropout(0.3),\n",
    "                         layers.Conv2D(filters=32,kernel_size=(3,3),activation='relu'),\n",
    "                         layers.MaxPool2D(pool_size=(2,2)),\n",
    "                         layers.Dropout(0.25),\n",
    "                         layers.Flatten(),\n",
    "                         layers.Dense(units=40,activation='relu'),\n",
    "                         layers.Dense(units=len(classes),activation='softmax')\n",
    "])"
   ]
  },
  {
   "cell_type": "code",
   "execution_count": 148,
   "id": "846d2037-88a1-4e6c-a5fd-ab5b73f51e4c",
   "metadata": {},
   "outputs": [],
   "source": [
    "# set batch size and epochs\n",
    "batch_size = 30\n",
    "epochs = 15\n",
    "# Here we adjust learning rate\n",
    "K.set_value(model.optimizer.learning_rate, 0.001)"
   ]
  },
  {
   "cell_type": "code",
   "execution_count": 149,
   "id": "45a0d83b-8915-45ea-b2a6-f5d8854ebb85",
   "metadata": {},
   "outputs": [],
   "source": [
    "#keras.losses.SparseCategoricalCrossentropy(from_logits=True)\n",
    "model.compile(optimizer='adam',loss='categorical_crossentropy',metrics=['accuracy'])"
   ]
  },
  {
   "cell_type": "code",
   "execution_count": 150,
   "id": "6a3a86a1-6f9a-4729-8a03-720eb7761bf9",
   "metadata": {},
   "outputs": [
    {
     "name": "stdout",
     "output_type": "stream",
     "text": [
      "Epoch 1/15\n",
      "13/13 [==============================] - 21s 2s/step - loss: 0.9382 - accuracy: 0.6562 - val_loss: 1.9219 - val_accuracy: 0.4688\n",
      "Epoch 2/15\n",
      "13/13 [==============================] - 19s 1s/step - loss: 0.9667 - accuracy: 0.6875 - val_loss: 1.5427 - val_accuracy: 0.5625\n",
      "Epoch 3/15\n",
      "13/13 [==============================] - 20s 2s/step - loss: 0.8485 - accuracy: 0.6875 - val_loss: 1.4001 - val_accuracy: 0.6250\n",
      "Epoch 4/15\n",
      "13/13 [==============================] - 21s 2s/step - loss: 0.7738 - accuracy: 0.7188 - val_loss: 2.0177 - val_accuracy: 0.4375\n",
      "Epoch 5/15\n",
      "13/13 [==============================] - 21s 2s/step - loss: 0.8364 - accuracy: 0.7188 - val_loss: 1.6570 - val_accuracy: 0.6562\n",
      "Epoch 6/15\n",
      "13/13 [==============================] - 20s 2s/step - loss: 0.8017 - accuracy: 0.7031 - val_loss: 1.5203 - val_accuracy: 0.6875\n",
      "Epoch 7/15\n",
      "13/13 [==============================] - 20s 2s/step - loss: 0.8709 - accuracy: 0.7031 - val_loss: 1.9598 - val_accuracy: 0.5312\n",
      "Epoch 8/15\n",
      "13/13 [==============================] - 20s 2s/step - loss: 0.9304 - accuracy: 0.6641 - val_loss: 1.5410 - val_accuracy: 0.6562\n",
      "Epoch 9/15\n",
      "13/13 [==============================] - 20s 2s/step - loss: 0.6953 - accuracy: 0.7344 - val_loss: 1.5192 - val_accuracy: 0.5938\n",
      "Epoch 10/15\n",
      "13/13 [==============================] - 20s 2s/step - loss: 0.8220 - accuracy: 0.7188 - val_loss: 1.1838 - val_accuracy: 0.7188\n",
      "Epoch 11/15\n",
      "13/13 [==============================] - 21s 2s/step - loss: 0.6451 - accuracy: 0.7422 - val_loss: 1.5550 - val_accuracy: 0.5312\n",
      "Epoch 12/15\n",
      "13/13 [==============================] - 21s 2s/step - loss: 0.5701 - accuracy: 0.8281 - val_loss: 1.5140 - val_accuracy: 0.5938\n",
      "Epoch 13/15\n",
      "13/13 [==============================] - 21s 2s/step - loss: 0.6560 - accuracy: 0.7578 - val_loss: 1.4302 - val_accuracy: 0.6562\n",
      "Epoch 14/15\n",
      "13/13 [==============================] - 21s 2s/step - loss: 0.5322 - accuracy: 0.8281 - val_loss: 1.9506 - val_accuracy: 0.5938\n",
      "Epoch 15/15\n",
      "13/13 [==============================] - 21s 2s/step - loss: 0.7950 - accuracy: 0.7109 - val_loss: 1.3073 - val_accuracy: 0.6562\n"
     ]
    }
   ],
   "source": [
    "history = model.fit(train_ds, epochs=epochs, validation_data=val_ds,)"
   ]
  },
  {
   "cell_type": "code",
   "execution_count": 151,
   "id": "1f6d5def-9a27-48cf-b1b7-067d6ea66b1b",
   "metadata": {},
   "outputs": [
    {
     "data": {
      "image/png": "[encoded data removed]",
      "text/plain": [
       "<Figure size 576x432 with 2 Axes>"
      ]
     },
     "metadata": {
      "needs_background": "light"
     },
     "output_type": "display_data"
    }
   ],
   "source": [
    "## Plot performance\n",
    "plt.figure(figsize=(8,6))\n",
    "plt.subplot(1,2,1)\n",
    "plt.plot(history.history['accuracy'],label='training')\n",
    "plt.plot(history.history['val_accuracy'],label='validation')\n",
    "plt.xlabel('Accuracy')\n",
    "\n",
    "plt.subplot(1,2,2)\n",
    "plt.plot(history.history['loss'],label='training')\n",
    "plt.plot(history.history['val_loss'],label='validation')\n",
    "plt.xlabel('Loss')\n",
    "\n",
    "plt.show()"
   ]
  },
  {
   "cell_type": "code",
   "execution_count": null,
   "id": "439a57d3-4577-4743-b3b5-9a792d8dad6c",
   "metadata": {},
   "outputs": [],
   "source": []
  }
 ],
 "metadata": {
  "kernelspec": {
   "display_name": "Python 3",
   "language": "python",
   "name": "python3"
  },
  "language_info": {
   "codemirror_mode": {
    "name": "ipython",
    "version": 3
   },
   "file_extension": ".py",
   "mimetype": "text/x-python",
   "name": "python",
   "nbconvert_exporter": "python",
   "pygments_lexer": "ipython3",
   "version": "3.8.8"
  }
 },
 "nbformat": 4,
 "nbformat_minor": 5
}
