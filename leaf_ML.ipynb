{
 "cells": [
  {
   "cell_type": "code",
   "execution_count": 23,
   "id": "7d963908-455b-46d9-8315-c4854f0dce6c",
   "metadata": {},
   "outputs": [],
   "source": [
    "import tensorflow as tf\n",
    "from tensorflow import keras\n",
    "from keras.preprocessing import image_dataset_from_directory\n",
    "from tensorflow.keras import backend as K\n",
    "from tensorflow.keras.datasets import cifar10\n",
    "from tensorflow.keras.models import Sequential\n",
    "from tensorflow.keras.layers import Dense, Conv2D, MaxPooling2D, Dropout, Flatten\n",
    "# one-hot encoding\n",
    "from tensorflow.keras.preprocessing.image import ImageDataGenerator\n",
    "from tensorflow.keras import layers\n",
    "import pathlib\n",
    "import PIL\n",
    "import numpy as np\n",
    "import matplotlib.pyplot as plt \n"
   ]
  },
  {
   "cell_type": "code",
   "execution_count": 4,
   "id": "945c3d24-efd6-49fb-b354-f8e36429e224",
   "metadata": {},
   "outputs": [],
   "source": [
    "leaf_folder = 'leaf_test/'"
   ]
  },
  {
   "cell_type": "code",
   "execution_count": 5,
   "id": "73f036c2-f4ce-47ba-9597-522f0ccc50f3",
   "metadata": {},
   "outputs": [],
   "source": [
    "import os \n",
    "classes = []\n",
    "for i in os.listdir(leaf_folder):\n",
    "    classes.append(i)"
   ]
  },
  {
   "cell_type": "code",
   "execution_count": 6,
   "id": "23955ec9-31e6-41fe-863d-f379476d0b63",
   "metadata": {},
   "outputs": [
    {
     "name": "stdout",
     "output_type": "stream",
     "text": [
      "['Acer_Campestre', 'Alnus_Sieboldiana', 'Cotinus_Coggygria', 'Eucalyptus_Glaucescens', 'Ginkgo_Biloba', 'Liriodendron_Tulipifera', 'Prunus_X_Shmittii', 'Quercus_Phellos', 'Quercus_x_Hispanica', 'Zelkova_Serrata']\n"
     ]
    }
   ],
   "source": [
    "print(classes)"
   ]
  },
  {
   "cell_type": "code",
   "execution_count": 7,
   "id": "a2ff1990-62f4-4efa-8849-f7e35ec94319",
   "metadata": {},
   "outputs": [],
   "source": [
    "leaf_folder_path = pathlib.Path(leaf_folder)\n",
    "images = list(leaf_folder_path.glob('*/*'))\n",
    "len(images)\n",
    "image_size = (550,475)"
   ]
  },
  {
   "cell_type": "code",
   "execution_count": 35,
   "id": "1d7851e9-d96e-4762-896f-0bcb197c55cf",
   "metadata": {},
   "outputs": [
    {
     "name": "stdout",
     "output_type": "stream",
     "text": [
      "Found 160 files belonging to 10 classes.\n",
      "Using 112 files for training.\n"
     ]
    }
   ],
   "source": [
    "train_ds = image_dataset_from_directory(\n",
    "    leaf_folder_path,\n",
    "    validation_split=0.3,\n",
    "    batch_size = 30,\n",
    "    subset = 'training', \n",
    "    label_mode = 'categorical',\n",
    "    image_size=image_size,\n",
    "    class_names =classes,\n",
    "    seed = 12\n",
    ")"
   ]
  },
  {
   "cell_type": "code",
   "execution_count": 9,
   "id": "c6701f60-51d3-45e4-80a7-00c937e01437",
   "metadata": {},
   "outputs": [
    {
     "name": "stdout",
     "output_type": "stream",
     "text": [
      "<class 'tensorflow.python.framework.ops.EagerTensor'>\n"
     ]
    },
    {
     "data": {
      "text/plain": [
       "TensorShape([30, 550, 475, 3])"
      ]
     },
     "execution_count": 9,
     "metadata": {},
     "output_type": "execute_result"
    }
   ],
   "source": [
    "for images,labels in train_ds.take(1):\n",
    "    first_set=images\n",
    "    print(type(images))\n",
    "first_set.shape"
   ]
  },
  {
   "cell_type": "code",
   "execution_count": 10,
   "id": "feab2b8c-ac6f-4c17-838a-b49681953dca",
   "metadata": {},
   "outputs": [
    {
     "name": "stdout",
     "output_type": "stream",
     "text": [
      "Found 160 files belonging to 10 classes.\n",
      "Using 48 files for validation.\n"
     ]
    }
   ],
   "source": [
    "val_ds = image_dataset_from_directory(\n",
    "    leaf_folder_path,\n",
    "    validation_split=0.3,\n",
    "    subset=\"validation\",\n",
    "    label_mode = 'categorical',\n",
    "    image_size=image_size,\n",
    "    batch_size=30,\n",
    "    class_names=classes,\n",
    "    seed = 12\n",
    ")"
   ]
  },
  {
   "cell_type": "code",
   "execution_count": 28,
   "id": "9dddfb75-7395-4a22-96f9-91fc8a707888",
   "metadata": {},
   "outputs": [],
   "source": [
    "# this works well so far\n",
    "data_augmentation=Sequential([\n",
    "    layers.experimental.preprocessing.RandomFlip('horizontal',input_shape=(550,475,3)),\n",
    "    layers.experimental.preprocessing.RandomFlip('vertical',input_shape=(550,475,3)),    \n",
    "])\n",
    "#layers.experimental.preprocessing.RandomRotation(0.4),"
   ]
  },
  {
   "cell_type": "code",
   "execution_count": 49,
   "id": "5df7d17b-03be-4a97-9f49-1d93c1f37fe0",
   "metadata": {},
   "outputs": [],
   "source": [
    "model=Sequential([\n",
    "     data_augmentation,\n",
    "     layers.Conv2D(filters=10,kernel_size=(5,5),padding='same',activation='relu'),\n",
    "     layers.MaxPool2D(pool_size=(2,2)),\n",
    "     layers.Dropout(0.4),\n",
    "     layers.Conv2D(filters=10,kernel_size=(5,5),activation='relu'),\n",
    "     layers.MaxPool2D(pool_size=(2,2)),\n",
    "     layers.Dropout(0.4),\n",
    "     layers.Conv2D(filters=10,kernel_size=(5,5),activation='relu'),\n",
    "     layers.MaxPool2D(pool_size=(2,2)),\n",
    "     layers.Dropout(0.4),\n",
    "     layers.Flatten(),\n",
    "     layers.Dense(units=40,activation='relu'),\n",
    "     layers.Dense(units=len(classes),activation='softmax')\n",
    "])"
   ]
  },
  {
   "cell_type": "code",
   "execution_count": 42,
   "id": "b0fec795-35a2-4cbe-9c11-c59d86399d65",
   "metadata": {},
   "outputs": [
    {
     "name": "stdout",
     "output_type": "stream",
     "text": [
      "Model: \"sequential_12\"\n",
      "_________________________________________________________________\n",
      "Layer (type)                 Output Shape              Param #   \n",
      "=================================================================\n",
      "sequential_9 (Sequential)    (None, 550, 475, 3)       0         \n",
      "_________________________________________________________________\n",
      "conv2d_24 (Conv2D)           (None, 550, 475, 10)      760       \n",
      "_________________________________________________________________\n",
      "max_pooling2d_24 (MaxPooling (None, 275, 237, 10)      0         \n",
      "_________________________________________________________________\n",
      "dropout_24 (Dropout)         (None, 275, 237, 10)      0         \n",
      "_________________________________________________________________\n",
      "conv2d_25 (Conv2D)           (None, 271, 233, 10)      2510      \n",
      "_________________________________________________________________\n",
      "max_pooling2d_25 (MaxPooling (None, 135, 116, 10)      0         \n",
      "_________________________________________________________________\n",
      "dropout_25 (Dropout)         (None, 135, 116, 10)      0         \n",
      "_________________________________________________________________\n",
      "conv2d_26 (Conv2D)           (None, 131, 112, 10)      2510      \n",
      "_________________________________________________________________\n",
      "max_pooling2d_26 (MaxPooling (None, 65, 56, 10)        0         \n",
      "_________________________________________________________________\n",
      "dropout_26 (Dropout)         (None, 65, 56, 10)        0         \n",
      "_________________________________________________________________\n",
      "flatten_8 (Flatten)          (None, 36400)             0         \n",
      "_________________________________________________________________\n",
      "dense_16 (Dense)             (None, 40)                1456040   \n",
      "_________________________________________________________________\n",
      "dense_17 (Dense)             (None, 10)                410       \n",
      "=================================================================\n",
      "Total params: 1,462,230\n",
      "Trainable params: 1,462,230\n",
      "Non-trainable params: 0\n",
      "_________________________________________________________________\n"
     ]
    }
   ],
   "source": [
    "model.summary()"
   ]
  },
  {
   "cell_type": "code",
   "execution_count": 45,
   "id": "846d2037-88a1-4e6c-a5fd-ab5b73f51e4c",
   "metadata": {},
   "outputs": [],
   "source": [
    "# set batch size and epochs\n",
    "batch_size = 20\n",
    "epochs = 50"
   ]
  },
  {
   "cell_type": "code",
   "execution_count": 52,
   "id": "45a0d83b-8915-45ea-b2a6-f5d8854ebb85",
   "metadata": {},
   "outputs": [],
   "source": [
    "#keras.losses.SparseCategoricalCrossentropy(from_logits=True)\n",
    "model.compile(optimizer='adam',loss='categorical_crossentropy',metrics=['accuracy'])\n",
    "K.set_value(model.optimizer.learning_rate, 0.001)"
   ]
  },
  {
   "cell_type": "code",
   "execution_count": 53,
   "id": "6a3a86a1-6f9a-4729-8a03-720eb7761bf9",
   "metadata": {},
   "outputs": [
    {
     "name": "stdout",
     "output_type": "stream",
     "text": [
      "Epoch 1/50\n",
      "4/4 [==============================] - 16s 4s/step - loss: 1705.2162 - accuracy: 0.0893 - val_loss: 91.9734 - val_accuracy: 0.1042\n",
      "Epoch 2/50\n",
      "4/4 [==============================] - 16s 4s/step - loss: 438.3056 - accuracy: 0.1786 - val_loss: 33.5756 - val_accuracy: 0.0417\n",
      "Epoch 3/50\n",
      "4/4 [==============================] - 17s 4s/step - loss: 104.9474 - accuracy: 0.1607 - val_loss: 8.3344 - val_accuracy: 0.1042\n",
      "Epoch 4/50\n",
      "4/4 [==============================] - 17s 4s/step - loss: 19.4309 - accuracy: 0.3304 - val_loss: 5.7454 - val_accuracy: 0.2500\n",
      "Epoch 5/50\n",
      "4/4 [==============================] - 17s 4s/step - loss: 15.0655 - accuracy: 0.3214 - val_loss: 4.6724 - val_accuracy: 0.2292\n",
      "Epoch 6/50\n",
      "4/4 [==============================] - 17s 4s/step - loss: 10.6556 - accuracy: 0.3214 - val_loss: 3.3226 - val_accuracy: 0.2292\n",
      "Epoch 7/50\n",
      "4/4 [==============================] - 17s 4s/step - loss: 8.0658 - accuracy: 0.4018 - val_loss: 2.5077 - val_accuracy: 0.2917\n",
      "Epoch 8/50\n",
      "4/4 [==============================] - 17s 4s/step - loss: 5.5367 - accuracy: 0.4375 - val_loss: 2.0938 - val_accuracy: 0.3333\n",
      "Epoch 9/50\n",
      "4/4 [==============================] - 17s 4s/step - loss: 4.4383 - accuracy: 0.4643 - val_loss: 1.9363 - val_accuracy: 0.2917\n",
      "Epoch 10/50\n",
      "4/4 [==============================] - 17s 4s/step - loss: 3.0882 - accuracy: 0.4821 - val_loss: 1.8860 - val_accuracy: 0.3125\n",
      "Epoch 11/50\n",
      "4/4 [==============================] - 17s 4s/step - loss: 3.1672 - accuracy: 0.4286 - val_loss: 1.8695 - val_accuracy: 0.2708\n",
      "Epoch 12/50\n",
      "4/4 [==============================] - 17s 4s/step - loss: 2.5597 - accuracy: 0.4643 - val_loss: 1.8513 - val_accuracy: 0.2708\n",
      "Epoch 13/50\n",
      "4/4 [==============================] - 17s 4s/step - loss: 2.1467 - accuracy: 0.4643 - val_loss: 1.8322 - val_accuracy: 0.2500\n",
      "Epoch 14/50\n",
      "4/4 [==============================] - 17s 4s/step - loss: 1.9428 - accuracy: 0.5089 - val_loss: 1.8184 - val_accuracy: 0.3125\n",
      "Epoch 15/50\n",
      "4/4 [==============================] - 17s 4s/step - loss: 1.7443 - accuracy: 0.4464 - val_loss: 1.7912 - val_accuracy: 0.3542\n",
      "Epoch 16/50\n",
      "4/4 [==============================] - 17s 4s/step - loss: 1.4978 - accuracy: 0.4821 - val_loss: 1.7709 - val_accuracy: 0.3958\n",
      "Epoch 17/50\n",
      "4/4 [==============================] - 17s 4s/step - loss: 1.2351 - accuracy: 0.5625 - val_loss: 1.7660 - val_accuracy: 0.4167\n",
      "Epoch 18/50\n",
      "4/4 [==============================] - 17s 4s/step - loss: 1.3057 - accuracy: 0.5089 - val_loss: 1.7675 - val_accuracy: 0.4375\n",
      "Epoch 19/50\n",
      "4/4 [==============================] - 17s 4s/step - loss: 1.2582 - accuracy: 0.5357 - val_loss: 1.7771 - val_accuracy: 0.4583\n",
      "Epoch 20/50\n",
      "4/4 [==============================] - 17s 4s/step - loss: 1.1599 - accuracy: 0.6161 - val_loss: 1.7898 - val_accuracy: 0.4792\n",
      "Epoch 21/50\n",
      "4/4 [==============================] - 17s 4s/step - loss: 1.1790 - accuracy: 0.5714 - val_loss: 1.7787 - val_accuracy: 0.3750\n",
      "Epoch 22/50\n",
      "4/4 [==============================] - 17s 4s/step - loss: 1.1057 - accuracy: 0.6161 - val_loss: 1.7424 - val_accuracy: 0.3750\n",
      "Epoch 23/50\n",
      "4/4 [==============================] - 18s 5s/step - loss: 1.1699 - accuracy: 0.6429 - val_loss: 1.7113 - val_accuracy: 0.3958\n",
      "Epoch 24/50\n",
      "4/4 [==============================] - 19s 5s/step - loss: 0.9625 - accuracy: 0.6786 - val_loss: 1.7069 - val_accuracy: 0.4167\n",
      "Epoch 25/50\n",
      "4/4 [==============================] - 18s 4s/step - loss: 0.8866 - accuracy: 0.6607 - val_loss: 1.6807 - val_accuracy: 0.3958\n",
      "Epoch 26/50\n",
      "4/4 [==============================] - 20s 5s/step - loss: 0.9637 - accuracy: 0.6786 - val_loss: 1.6457 - val_accuracy: 0.4792\n",
      "Epoch 27/50\n",
      "4/4 [==============================] - 20s 5s/step - loss: 0.8731 - accuracy: 0.6429 - val_loss: 1.6001 - val_accuracy: 0.4375\n",
      "Epoch 28/50\n",
      "4/4 [==============================] - 20s 5s/step - loss: 0.8179 - accuracy: 0.7411 - val_loss: 1.5531 - val_accuracy: 0.4583\n",
      "Epoch 29/50\n",
      "4/4 [==============================] - 18s 4s/step - loss: 0.7712 - accuracy: 0.6875 - val_loss: 1.5204 - val_accuracy: 0.4792\n",
      "Epoch 30/50\n",
      "4/4 [==============================] - 18s 4s/step - loss: 0.7409 - accuracy: 0.7054 - val_loss: 1.4899 - val_accuracy: 0.4792\n",
      "Epoch 31/50\n",
      "4/4 [==============================] - 18s 4s/step - loss: 0.7110 - accuracy: 0.7232 - val_loss: 1.4695 - val_accuracy: 0.5208\n",
      "Epoch 32/50\n",
      "4/4 [==============================] - 18s 4s/step - loss: 0.7735 - accuracy: 0.7321 - val_loss: 1.4497 - val_accuracy: 0.5417\n",
      "Epoch 33/50\n",
      "4/4 [==============================] - 18s 5s/step - loss: 0.6716 - accuracy: 0.7054 - val_loss: 1.4438 - val_accuracy: 0.5417\n",
      "Epoch 34/50\n",
      "4/4 [==============================] - 19s 5s/step - loss: 0.6285 - accuracy: 0.7679 - val_loss: 1.4305 - val_accuracy: 0.5833\n",
      "Epoch 35/50\n",
      "4/4 [==============================] - 20s 5s/step - loss: 0.6212 - accuracy: 0.7946 - val_loss: 1.4084 - val_accuracy: 0.5833\n",
      "Epoch 36/50\n",
      "4/4 [==============================] - 20s 5s/step - loss: 0.5117 - accuracy: 0.8125 - val_loss: 1.3865 - val_accuracy: 0.6042\n",
      "Epoch 37/50\n",
      "4/4 [==============================] - 21s 5s/step - loss: 0.5547 - accuracy: 0.8214 - val_loss: 1.3617 - val_accuracy: 0.6042\n",
      "Epoch 38/50\n",
      "4/4 [==============================] - 21s 5s/step - loss: 0.6052 - accuracy: 0.7857 - val_loss: 1.3412 - val_accuracy: 0.6042\n",
      "Epoch 39/50\n",
      "4/4 [==============================] - 21s 5s/step - loss: 0.4761 - accuracy: 0.8214 - val_loss: 1.3087 - val_accuracy: 0.6042\n",
      "Epoch 40/50\n",
      "4/4 [==============================] - 21s 5s/step - loss: 0.4422 - accuracy: 0.8571 - val_loss: 1.2547 - val_accuracy: 0.7083\n",
      "Epoch 41/50\n",
      "4/4 [==============================] - 21s 5s/step - loss: 0.4713 - accuracy: 0.8482 - val_loss: 1.2342 - val_accuracy: 0.7500\n",
      "Epoch 42/50\n",
      "4/4 [==============================] - 21s 5s/step - loss: 0.3627 - accuracy: 0.9107 - val_loss: 1.2135 - val_accuracy: 0.7708\n",
      "Epoch 43/50\n",
      "4/4 [==============================] - 21s 5s/step - loss: 0.4585 - accuracy: 0.8661 - val_loss: 1.2000 - val_accuracy: 0.7500\n",
      "Epoch 44/50\n",
      "4/4 [==============================] - 21s 5s/step - loss: 0.3767 - accuracy: 0.8929 - val_loss: 1.2045 - val_accuracy: 0.6875\n",
      "Epoch 45/50\n",
      "4/4 [==============================] - 21s 5s/step - loss: 0.3794 - accuracy: 0.8839 - val_loss: 1.1909 - val_accuracy: 0.7083\n",
      "Epoch 46/50\n",
      "4/4 [==============================] - 21s 5s/step - loss: 0.3820 - accuracy: 0.9107 - val_loss: 1.1569 - val_accuracy: 0.7292\n",
      "Epoch 47/50\n",
      "4/4 [==============================] - 21s 5s/step - loss: 0.3963 - accuracy: 0.9018 - val_loss: 1.1345 - val_accuracy: 0.7292\n",
      "Epoch 48/50\n",
      "4/4 [==============================] - 19s 5s/step - loss: 0.4008 - accuracy: 0.8571 - val_loss: 1.1153 - val_accuracy: 0.7292\n",
      "Epoch 49/50\n",
      "4/4 [==============================] - 18s 5s/step - loss: 0.3729 - accuracy: 0.9018 - val_loss: 1.0875 - val_accuracy: 0.7500\n",
      "Epoch 50/50\n",
      "4/4 [==============================] - 19s 5s/step - loss: 0.4057 - accuracy: 0.8750 - val_loss: 1.0546 - val_accuracy: 0.7708\n"
     ]
    }
   ],
   "source": [
    "history = model.fit(train_ds, epochs=epochs, validation_data=val_ds,)"
   ]
  },
  {
   "cell_type": "code",
   "execution_count": 54,
   "id": "1f6d5def-9a27-48cf-b1b7-067d6ea66b1b",
   "metadata": {},
   "outputs": [
    {
     "data": {
      "image/png": "[encoded data removed]",
      "text/plain": [
       "<Figure size 576x432 with 2 Axes>"
      ]
     },
     "metadata": {
      "needs_background": "light"
     },
     "output_type": "display_data"
    }
   ],
   "source": [
    "## Plot performance\n",
    "plt.figure(figsize=(8,6))\n",
    "plt.subplot(1,2,1)\n",
    "plt.plot(history.history['accuracy'],label='training')\n",
    "plt.plot(history.history['val_accuracy'],label='validation')\n",
    "plt.xlabel('Accuracy')\n",
    "\n",
    "plt.subplot(1,2,2)\n",
    "plt.plot(history.history['loss'],label='training')\n",
    "plt.plot(history.history['val_loss'],label='validation')\n",
    "plt.xlabel('Loss')\n",
    "\n",
    "plt.show()"
   ]
  },
  {
   "cell_type": "code",
   "execution_count": null,
   "id": "439a57d3-4577-4743-b3b5-9a792d8dad6c",
   "metadata": {},
   "outputs": [],
   "source": []
  }
 ],
 "metadata": {
  "kernelspec": {
   "display_name": "Python 3",
   "language": "python",
   "name": "python3"
  },
  "language_info": {
   "codemirror_mode": {
    "name": "ipython",
    "version": 3
   },
   "file_extension": ".py",
   "mimetype": "text/x-python",
   "name": "python",
   "nbconvert_exporter": "python",
   "pygments_lexer": "ipython3",
   "version": "3.8.8"
  }
 },
 "nbformat": 4,
 "nbformat_minor": 5
}
